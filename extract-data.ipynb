{
 "cells": [
  {
   "cell_type": "markdown",
   "metadata": {
    "application/vnd.databricks.v1+cell": {
     "cellMetadata": {},
     "inputWidgets": {},
     "nuid": "f19e1a6d-67af-44af-b991-6b0df1070a71",
     "showTitle": false,
     "title": ""
    }
   },
   "source": [
    "### Load and save the CSV file to a delta format"
   ]
  },
  {
   "cell_type": "markdown",
   "metadata": {
    "application/vnd.databricks.v1+cell": {
     "cellMetadata": {},
     "inputWidgets": {},
     "nuid": "db984f90-79d2-4625-a44d-408fd2a0d70e",
     "showTitle": false,
     "title": ""
    }
   },
   "source": [
    "### Payments\n"
   ]
  },
  {
   "cell_type": "code",
   "execution_count": 0,
   "metadata": {
    "application/vnd.databricks.v1+cell": {
     "cellMetadata": {
      "byteLimit": 2048000,
      "rowLimit": 10000
     },
     "inputWidgets": {},
     "nuid": "d9b05dd4-2ccb-4f8f-9c06-a9c9041dc32a",
     "showTitle": false,
     "title": ""
    }
   },
   "outputs": [
    {
     "output_type": "stream",
     "name": "stdout",
     "output_type": "stream",
     "text": [
      "+----------+----------+------+--------+\n|payment_id|      date|amount|rider_id|\n+----------+----------+------+--------+\n|         1|2019-05-01|   9.0|    1000|\n|         2|2019-06-01|   9.0|    1000|\n|         3|2019-07-01|   9.0|    1000|\n|         4|2019-08-01|   9.0|    1000|\n|         5|2019-09-01|   9.0|    1000|\n+----------+----------+------+--------+\nonly showing top 5 rows\n\n"
     ]
    },
    {
     "output_type": "execute_result",
     "data": {
      "text/plain": [
       "<bound method DataFrame.printSchema of DataFrame[payment_id: int, date: date, amount: double, rider_id: int]>"
      ]
     },
     "execution_count": 6,
     "metadata": {},
     "output_type": "execute_result"
    }
   ],
   "source": [
    "\n",
    "\n",
    "df_payments = spark.read.format('csv')\\\n",
    "                        .option('header', 'false')\\\n",
    "                        .option('inferschema', 'true')\\\n",
    "                        .option('sep', ',')\\\n",
    "                        .load('/FileStore/bikeshare/payments.csv')\\\n",
    "                        .toDF(*['payment_id', 'date', 'amount', 'rider_id'])\n",
    "\n",
    "\n",
    "df_payments.show(5)\n",
    "df_payments.printSchema\n",
    "                        "
   ]
  },
  {
   "cell_type": "code",
   "execution_count": 0,
   "metadata": {
    "application/vnd.databricks.v1+cell": {
     "cellMetadata": {
      "byteLimit": 2048000,
      "rowLimit": 10000
     },
     "inputWidgets": {},
     "nuid": "744d57ef-62be-4276-9b53-3cd11e5b1999",
     "showTitle": false,
     "title": ""
    }
   },
   "outputs": [],
   "source": [
    "df_payments.write.format(\"delta\")\\\n",
    "            .mode(\"overwrite\")\\\n",
    "            .save('/delta/payments')"
   ]
  },
  {
   "cell_type": "markdown",
   "metadata": {
    "application/vnd.databricks.v1+cell": {
     "cellMetadata": {},
     "inputWidgets": {},
     "nuid": "39b982be-b199-40cf-8148-776d2ab6f34d",
     "showTitle": false,
     "title": ""
    }
   },
   "source": [
    "### Riders\n"
   ]
  },
  {
   "cell_type": "code",
   "execution_count": 0,
   "metadata": {
    "application/vnd.databricks.v1+cell": {
     "cellMetadata": {
      "byteLimit": 2048000,
      "rowLimit": 10000
     },
     "inputWidgets": {},
     "nuid": "ad024441-9b3e-46f6-bcf0-7059e2205773",
     "showTitle": false,
     "title": ""
    }
   },
   "outputs": [
    {
     "output_type": "stream",
     "name": "stdout",
     "output_type": "stream",
     "text": [
      "+--------+----------+---------+--------------------+----------+----------+----------+---------+\n|rider_id|first_name|last_name|             address|  birthday|start_date|  end_date|is_member|\n+--------+----------+---------+--------------------+----------+----------+----------+---------+\n|    1000|     Diana|    Clark| 1200 Alyssa Squares|1989-02-13|2019-04-23|      NULL|     true|\n|    1001|  Jennifer|    Smith|     397 Diana Ferry|1976-08-10|2019-11-01|2020-09-01|     true|\n|    1002|     Karen|    Smith|644 Brittany Row ...|1998-08-10|2022-02-04|      NULL|     true|\n|    1003|     Bryan|  Roberts|996 Dickerson Tur...|1999-03-29|2019-08-26|      NULL|    false|\n|    1004|     Jesse|Middleton|7009 Nathan Expre...|1969-04-11|2019-09-14|      NULL|     true|\n+--------+----------+---------+--------------------+----------+----------+----------+---------+\nonly showing top 5 rows\n\n"
     ]
    },
    {
     "output_type": "execute_result",
     "data": {
      "text/plain": [
       "<bound method DataFrame.printSchema of DataFrame[rider_id: int, first_name: string, last_name: string, address: string, birthday: date, start_date: date, end_date: date, is_member: boolean]>"
      ]
     },
     "execution_count": 8,
     "metadata": {},
     "output_type": "execute_result"
    }
   ],
   "source": [
    "df_riders = spark.read.format('csv')\\\n",
    "                        .option('header', 'false')\\\n",
    "                        .option('inferschema', 'true')\\\n",
    "                        .option('sep', ',')\\\n",
    "                        .load('/FileStore/bikeshare/riders.csv')\\\n",
    "                        .toDF(*['rider_id', 'first_name', 'last_name', 'address', 'birthday', 'start_date', 'end_date', 'is_member'])\n",
    "\n",
    "\n",
    "df_riders.show(5)\n",
    "df_riders.printSchema"
   ]
  },
  {
   "cell_type": "code",
   "execution_count": 0,
   "metadata": {
    "application/vnd.databricks.v1+cell": {
     "cellMetadata": {
      "byteLimit": 2048000,
      "rowLimit": 10000
     },
     "inputWidgets": {},
     "nuid": "5a7e4fd7-f7eb-4b2d-9caa-64b85cd8695e",
     "showTitle": false,
     "title": ""
    }
   },
   "outputs": [],
   "source": [
    "df_riders.write.format(\"delta\")\\\n",
    "            .mode(\"overwrite\")\\\n",
    "            .save('/delta/riders')"
   ]
  },
  {
   "cell_type": "markdown",
   "metadata": {
    "application/vnd.databricks.v1+cell": {
     "cellMetadata": {},
     "inputWidgets": {},
     "nuid": "e81aa711-f551-443b-ad8f-d04c87db4b0c",
     "showTitle": false,
     "title": ""
    }
   },
   "source": [
    "### Stations"
   ]
  },
  {
   "cell_type": "code",
   "execution_count": 0,
   "metadata": {
    "application/vnd.databricks.v1+cell": {
     "cellMetadata": {
      "byteLimit": 2048000,
      "rowLimit": 10000
     },
     "inputWidgets": {},
     "nuid": "38e523af-2238-427c-8493-1f917eea0f72",
     "showTitle": false,
     "title": ""
    }
   },
   "outputs": [
    {
     "output_type": "stream",
     "name": "stdout",
     "output_type": "stream",
     "text": [
      "+------------+--------------------+-----------------+------------------+\n|  station_id|                name|         latitude|         longitude|\n+------------+--------------------+-----------------+------------------+\n|         525|Glenwood Ave & To...|        42.012701|-87.66605799999999|\n|KA1503000012|  Clark St & Lake St|41.88579466666667|-87.63110066666668|\n|         637|Wood St & Chicago...|        41.895634|        -87.672069|\n|       13216|  State St & 33rd St|       41.8347335|       -87.6258275|\n|       18003|Fairbanks St & Su...|41.89580766666667|-87.62025316666669|\n+------------+--------------------+-----------------+------------------+\nonly showing top 5 rows\n\n"
     ]
    },
    {
     "output_type": "execute_result",
     "data": {
      "text/plain": [
       "<bound method DataFrame.printSchema of DataFrame[station_id: string, name: string, latitude: double, longitude: double]>"
      ]
     },
     "execution_count": 11,
     "metadata": {},
     "output_type": "execute_result"
    }
   ],
   "source": [
    "df_stations = spark.read.format('csv')\\\n",
    "                        .option('header', 'false')\\\n",
    "                        .option('inferschema', 'true')\\\n",
    "                        .option('sep', ',')\\\n",
    "                        .load('/FileStore/bikeshare/stations.csv')\\\n",
    "                        .toDF(*['station_id', 'name', 'latitude', 'longitude'])\n",
    "\n",
    "\n",
    "df_stations.show(5)\n",
    "df_stations.printSchema"
   ]
  },
  {
   "cell_type": "code",
   "execution_count": 0,
   "metadata": {
    "application/vnd.databricks.v1+cell": {
     "cellMetadata": {
      "byteLimit": 2048000,
      "rowLimit": 10000
     },
     "inputWidgets": {},
     "nuid": "0f365f23-60e0-4cbc-8b87-216d3bdd5503",
     "showTitle": false,
     "title": ""
    }
   },
   "outputs": [],
   "source": [
    "df_stations.write.format(\"delta\")\\\n",
    "            .mode(\"overwrite\")\\\n",
    "            .save('/delta/stations')"
   ]
  },
  {
   "cell_type": "markdown",
   "metadata": {
    "application/vnd.databricks.v1+cell": {
     "cellMetadata": {},
     "inputWidgets": {},
     "nuid": "bd5eb0ec-3be6-4df2-9112-d68472ca7d18",
     "showTitle": false,
     "title": ""
    }
   },
   "source": [
    "### Trips"
   ]
  },
  {
   "cell_type": "code",
   "execution_count": 0,
   "metadata": {
    "application/vnd.databricks.v1+cell": {
     "cellMetadata": {
      "byteLimit": 2048000,
      "rowLimit": 10000
     },
     "inputWidgets": {},
     "nuid": "fc46f8b1-8863-4099-a8f8-7fb7aa31845e",
     "showTitle": false,
     "title": ""
    }
   },
   "outputs": [
    {
     "output_type": "stream",
     "name": "stdout",
     "output_type": "stream",
     "text": [
      "+----------------+-------------+-------------------+-------------------+----------------+--------------+--------+\n|         trip_id|rideable_type|         started_at|           ended_at|start_station_id|end_station_id|rider_id|\n+----------------+-------------+-------------------+-------------------+----------------+--------------+--------+\n|89E7AA6C29227EFF| classic_bike|2021-02-12 16:14:56|2021-02-12 16:21:43|             525|           660|   71934|\n|0FEFDE2603568365| classic_bike|2021-02-14 17:52:38|2021-02-14 18:12:09|             525|         16806|   47854|\n|E6159D746B2DBB91|electric_bike|2021-02-09 19:10:18|2021-02-09 19:19:10|    KA1503000012|  TA1305000029|   70870|\n|B32D3199F1C2E75B| classic_bike|2021-02-02 17:49:41|2021-02-02 17:54:06|             637|  TA1305000034|   58974|\n|83E463F23575F4BF|electric_bike|2021-02-23 15:07:23|2021-02-23 15:22:37|           13216|  TA1309000055|   39608|\n+----------------+-------------+-------------------+-------------------+----------------+--------------+--------+\nonly showing top 5 rows\n\n"
     ]
    },
    {
     "output_type": "execute_result",
     "data": {
      "text/plain": [
       "<bound method DataFrame.printSchema of DataFrame[trip_id: string, rideable_type: string, started_at: timestamp, ended_at: timestamp, start_station_id: string, end_station_id: string, rider_id: int]>"
      ]
     },
     "execution_count": 13,
     "metadata": {},
     "output_type": "execute_result"
    }
   ],
   "source": [
    "df_trips = spark.read.format('csv')\\\n",
    "                        .option('header', 'false')\\\n",
    "                        .option('inferschema', 'true')\\\n",
    "                        .option('sep', ',')\\\n",
    "                        .load('/FileStore/bikeshare/trips.csv')\\\n",
    "                        .toDF(*['trip_id', 'rideable_type', 'started_at', 'ended_at', 'start_station_id', 'end_station_id', 'rider_id'])\n",
    "\n",
    "\n",
    "df_trips.show(5)\n",
    "df_trips.printSchema"
   ]
  },
  {
   "cell_type": "code",
   "execution_count": 0,
   "metadata": {
    "application/vnd.databricks.v1+cell": {
     "cellMetadata": {
      "byteLimit": 2048000,
      "rowLimit": 10000
     },
     "inputWidgets": {},
     "nuid": "22acba00-28a0-4570-b992-d9a67264e0f9",
     "showTitle": false,
     "title": ""
    }
   },
   "outputs": [],
   "source": [
    "df_trips.write.format(\"delta\")\\\n",
    "            .mode(\"overwrite\")\\\n",
    "            .save('/delta/trips')"
   ]
  },
  {
   "cell_type": "code",
   "execution_count": 0,
   "metadata": {
    "application/vnd.databricks.v1+cell": {
     "cellMetadata": {},
     "inputWidgets": {},
     "nuid": "c318cdee-bcb6-42f1-923b-510c4f15dadf",
     "showTitle": false,
     "title": ""
    }
   },
   "outputs": [],
   "source": []
  }
 ],
 "metadata": {
  "application/vnd.databricks.v1+notebook": {
   "dashboards": [],
   "environmentMetadata": null,
   "language": "python",
   "notebookMetadata": {
    "pythonIndentUnit": 4
   },
   "notebookName": "extract-data",
   "widgets": {}
  }
 },
 "nbformat": 4,
 "nbformat_minor": 0
}
